{
 "cells": [
  {
   "cell_type": "code",
   "execution_count": 2,
   "id": "09fce4ae-7c31-44a0-a5d1-d686c567ef09",
   "metadata": {},
   "outputs": [],
   "source": [
    "transaction=[]"
   ]
  },
  {
   "cell_type": "code",
   "execution_count": 3,
   "id": "61f7fd1a-cbb1-42cf-91af-6882b5356230",
   "metadata": {},
   "outputs": [],
   "source": [
    "def creating_an_account():\n",
    "    name=input(\"Enter your name\")\n",
    "    password=input(\"Enter your password\")\n",
    "    email=input(\"Enter your email\")\n",
    "    date_of_bith=input(\"Enter your date of birth\")\n",
    "    gender=input(\"Enter your gender\")\n",
    "    phone_number=input(\"Enter your phone\")\n",
    "    acceptance_of_terms=input(\"Enter yes or no\")\n",
    "    transaction.append({\"type:\"\"creating_an_account\",\"name:\"\"name\", \"password:\"\"password\", \"email:\"\"email\", \"date_of_birth:\"\"date_of_bith\", \"gender:\"\"gender\", \"phone_number:\"\"phone_number\", \"acceptance of terms:\"\"acceptance of terms\"})\n",
    "    print(f\"congratulation your account has been created succefuly\")"
   ]
  },
  {
   "cell_type": "code",
   "execution_count": 4,
   "id": "6cb18c6a-a79e-42de-95bb-993ed1925c1b",
   "metadata": {},
   "outputs": [],
   "source": [
    "def log_in():\n",
    "    username=input(\"Enter your username\")\n",
    "    userpassword=input(\"Enter your userpassword\")\n",
    "    if(username==name and userpassword==password):\n",
    "        main_menu()\n",
    "    print(\"incorrect information\")"
   ]
  },
  {
   "cell_type": "code",
   "execution_count": 5,
   "id": "38e5db53-2ad3-4208-bea2-648180a6975b",
   "metadata": {},
   "outputs": [],
   "source": [
    "def depositing():\n",
    "    account_name=input(\"Enter your name\")\n",
    "    account_number=int(input(\"Enter your account number\"))\n",
    "    amount=Float(input(\"Enter the amount\"))\n",
    "    date=Float(input(\"Enter the date\"))\n",
    "    transaction.append({\"type:\"\"deposit\",\"name:\"\"account_name\",\"number:\"\"account_number\",\"amount:\"\"amount\",\"date:\"\"date\"})\n",
    "    print(\"Depositing has been succefuly complited\")"
   ]
  },
  {
   "cell_type": "code",
   "execution_count": 6,
   "id": "460a1137-afc7-4835-b962-a34ef337ce00",
   "metadata": {},
   "outputs": [],
   "source": [
    "def withdrawing():\n",
    "    account_name=input(\"Enter your name\")\n",
    "    account_number=int(input(\"Enter your account number\"))\n",
    "    amount=Float(input(\"Enter the amount\"))\n",
    "    date=Float(input(\"Enter the date\"))\n",
    "    transaction.append({\"type:\"\"withdrawing\",\"name:\"\"account_name\",\"number:\"\"account_number\",\"amount:\"\"amount\",\"date:\"\"date\"})\n",
    "    print(\"withdrowing has been succefuly complited\")"
   ]
  },
  {
   "cell_type": "code",
   "execution_count": 7,
   "id": "4a2788c1-5dcd-42a3-bb4e-4e4ea66d5c32",
   "metadata": {},
   "outputs": [],
   "source": [
    "def calculate_balance():\n",
    "    tatol_deposit= sum(t[\"amount\"]for t in transaction if t [\"type\"]==deposit)\n",
    "    tatol_withdraw= sum(i[\"amount\"]for i in transaction if i [\"type\"]==withdrawing)\n",
    "    return tatol_deposit - tatol_withdraw "
   ]
  },
  {
   "cell_type": "code",
   "execution_count": 8,
   "id": "e46cbafa-35c5-4058-ad09-5b3194659a61",
   "metadata": {},
   "outputs": [],
   "source": [
    "def balance():\n",
    "    balance = calculate_balance()\n",
    "    print(f\"the amount balance is:{balance:.2f}\")"
   ]
  },
  {
   "cell_type": "code",
   "execution_count": 9,
   "id": "893b5b8d-10bf-434e-b3cb-3e248bf26059",
   "metadata": {},
   "outputs": [],
   "source": [
    "def frist_menu():\n",
    "    while True:\n",
    "        print(\"===The frist_munu===\")\n",
    "        print(\"1.create an account\")\n",
    "        print(\"2.log in\")\n",
    "        choice=int(input(\"Enter your choice 1 and 2\"))\n",
    "        if choice==1:\n",
    "            creating_an_account()\n",
    "        elif choice==2:\n",
    "            log_in()\n",
    "        else:\n",
    "         print(\"pick please 1 and 2:\")\n",
    "         #break  this will break the loop\n",
    "        "
   ]
  },
  {
   "cell_type": "code",
   "execution_count": 10,
   "id": "2be2b295-bf81-41f7-a353-9b2e031c37a3",
   "metadata": {},
   "outputs": [],
   "source": [
    "def main_menu():\n",
    "    print(\"==Main menu==\")\n",
    "    print(\"1.depositing\")\n",
    "    print(\"2.withdrawing\")\n",
    "    print(\"3.balance\")\n",
    "    print(\"4.exit\")\n",
    "    choice=int(input(\"Enter in 1-3\"))\n",
    "    if choice==1:\n",
    "        depositing()\n",
    "    elif choise==2:\n",
    "        withdrawing()\n",
    "    elif choise==3:\n",
    "        balance()\n",
    "    elif choise==4:\n",
    "        print(\"program closed\")\n",
    "        #break\n",
    "    else:\n",
    "        print(\"invaled choise please pick 1-4\")        "
   ]
  },
  {
   "cell_type": "code",
   "execution_count": null,
   "id": "4602a7c1-a1c1-491f-8b70-c5129a597057",
   "metadata": {},
   "outputs": [
    {
     "name": "stdout",
     "output_type": "stream",
     "text": [
      "===The frist_munu===\n",
      "1.create an account\n",
      "2.log in\n"
     ]
    },
    {
     "name": "stdin",
     "output_type": "stream",
     "text": [
      "Enter your choice 1 and 2 6\n"
     ]
    },
    {
     "name": "stdout",
     "output_type": "stream",
     "text": [
      "pick please 1 and 2:\n",
      "===The frist_munu===\n",
      "1.create an account\n",
      "2.log in\n"
     ]
    },
    {
     "name": "stdin",
     "output_type": "stream",
     "text": [
      "Enter your choice 1 and 2 2\n"
     ]
    }
   ],
   "source": [
    "frist_menu()"
   ]
  },
  {
   "cell_type": "code",
   "execution_count": null,
   "id": "f659ad09-80ee-46a6-84af-65ddbce2f9a9",
   "metadata": {},
   "outputs": [],
   "source": []
  }
 ],
 "metadata": {
  "kernelspec": {
   "display_name": "Python 3 (ipykernel)",
   "language": "python",
   "name": "python3"
  },
  "language_info": {
   "codemirror_mode": {
    "name": "ipython",
    "version": 3
   },
   "file_extension": ".py",
   "mimetype": "text/x-python",
   "name": "python",
   "nbconvert_exporter": "python",
   "pygments_lexer": "ipython3",
   "version": "3.13.2"
  }
 },
 "nbformat": 4,
 "nbformat_minor": 5
}
