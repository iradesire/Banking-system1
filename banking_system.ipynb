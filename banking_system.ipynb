{
 "cells": [
  {
   "cell_type": "code",
   "execution_count": null,
   "id": "09fce4ae-7c31-44a0-a5d1-d686c567ef09",
   "metadata": {},
   "outputs": [],
   "source": [
    "transaction[]"
   ]
  },
  {
   "cell_type": "code",
   "execution_count": null,
   "id": "61f7fd1a-cbb1-42cf-91af-6882b5356230",
   "metadata": {},
   "outputs": [],
   "source": [
    "def creating_an_account():\n",
    "    name=input(\"Enter your name\")\n",
    "    password=input(\"Enter your password\")\n",
    "    email=input(\"Enter your email\")\n",
    "    date_of_bith=input(\"Enter your date of birth\")\n",
    "    gender=input(\"Enter your gender\")\n",
    "    phone_number=input(\"Enter your phone\")\n",
    "    acceptance of terms=input(\"Enter yes or no\")\n",
    "    transaction oppend ({\"type:\"\"creating_an_account\",\"name\":name,\"password\":password,\"email\":email,\"date_of_birth\":date_of_bith,\"gender\":gender,\"phone_number\":phone_number,\"acceptance of terms\":acceptance of terms}\")\n",
    "print(f\"congratulation your account has been created succefuly\")"
   ]
  },
  {
   "cell_type": "code",
   "execution_count": null,
   "id": "6cb18c6a-a79e-42de-95bb-993ed1925c1b",
   "metadata": {},
   "outputs": [],
   "source": [
    "def log_in():\n",
    "    username=input(\"Enter your username\")\n",
    "    userpassword=input(\"Enter your userpassword\")\n",
    "    if(username==name and userpassword==password):\n",
    "        main_menu()\n",
    "    print(\"incorrect information\")"
   ]
  },
  {
   "cell_type": "code",
   "execution_count": null,
   "id": "38e5db53-2ad3-4208-bea2-648180a6975b",
   "metadata": {},
   "outputs": [],
   "source": [
    "def depositing():\n",
    "    account_name=input(\"Enter your name\")\n",
    "    account_number=int(input(\"Enter your account number\"))\n",
    "    amount=Float(input(\"Enter the amount\"))\n",
    "    date=Float(input(\"Enter the date\"))\n",
    "    transaction oppend({\"type\":\"deposit\",\"name\":account_name,\"number\":account_number:\"amount\":amount,\"date\":date,})\n",
    "print(\"Depositing has been succefuly complited\")"
   ]
  },
  {
   "cell_type": "code",
   "execution_count": null,
   "id": "460a1137-afc7-4835-b962-a34ef337ce00",
   "metadata": {},
   "outputs": [],
   "source": [
    "def withdrawing():\n",
    "    account_name=input(\"Enter your name\")\n",
    "    account_number=int(input(\"Enter your account number\"))\n",
    "    amount=Float(input(\"Enter the amount\"))\n",
    "    date=Float(input(\"Enter the date\"))\n",
    "    transaction oppend({\"type\":\"withdrawing\",\"name\":account_name,\"number\":account_number:\"amount\":amount,\"date\":date,})\n",
    "print(\"withdrowing has been succefuly complited\")"
   ]
  },
  {
   "cell_type": "code",
   "execution_count": null,
   "id": "4a2788c1-5dcd-42a3-bb4e-4e4ea66d5c32",
   "metadata": {},
   "outputs": [],
   "source": [
    "def calculate_balance():\n",
    "    tatol_deposit_sum(t[amount]forin)\n",
    "    \n",
    "    "
   ]
  }
 ],
 "metadata": {
  "kernelspec": {
   "display_name": "Python 3 (ipykernel)",
   "language": "python",
   "name": "python3"
  },
  "language_info": {
   "codemirror_mode": {
    "name": "ipython",
    "version": 3
   },
   "file_extension": ".py",
   "mimetype": "text/x-python",
   "name": "python",
   "nbconvert_exporter": "python",
   "pygments_lexer": "ipython3",
   "version": "3.13.2"
  }
 },
 "nbformat": 4,
 "nbformat_minor": 5
}
